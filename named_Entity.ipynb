{
 "cells": [
  {
   "cell_type": "code",
   "execution_count": 1,
   "metadata": {},
   "outputs": [],
   "source": [
    "import spacy\n",
    "nlp = spacy.load(\"en_core_web_sm\")"
   ]
  },
  {
   "cell_type": "code",
   "execution_count": 2,
   "metadata": {},
   "outputs": [],
   "source": [
    "text = '''\n",
    "Polio. Polio is a crippling and potentially deadly infectious disease that is caused by poliovirus. ...\n",
    "Tetanus. Tetanus causes painful muscle stiffness and lockjaw and can be fatal. ...\n",
    "The Flu (Influenza),\n",
    "Hepatitis B.,\n",
    "Hepatitis A.,\n",
    "Rubella,\n",
    "Hib,\n",
    "Measles\n",
    "'''"
   ]
  },
  {
   "cell_type": "code",
   "execution_count": 4,
   "metadata": {},
   "outputs": [
    {
     "data": {
      "text/plain": [
       "\n",
       "Polio. Polio is a crippling and potentially deadly infectious disease that is caused by poliovirus. ...\n",
       "Tetanus. Tetanus causes painful muscle stiffness and lockjaw and can be fatal. ...\n",
       "The Flu (Influenza),\n",
       "Hepatitis B.,\n",
       "Hepatitis A.,\n",
       "Rubella,\n",
       "Hib,\n",
       "Measles"
      ]
     },
     "execution_count": 4,
     "metadata": {},
     "output_type": "execute_result"
    }
   ],
   "source": [
    "doc = nlp(text)\n",
    "\n",
    "doc"
   ]
  },
  {
   "cell_type": "code",
   "execution_count": 5,
   "metadata": {},
   "outputs": [
    {
     "name": "stdout",
     "output_type": "stream",
     "text": [
      "Tetanus | ORG\n",
      "The Flu (Influenza) | WORK_OF_ART\n",
      "Hepatitis B. | PERSON\n",
      "Hepatitis A. | PERSON\n",
      "Rubella | ORG\n",
      "Hib | ORG\n"
     ]
    }
   ],
   "source": [
    "for ent in doc.ents:\n",
    "    print(ent.text,\"|\",ent.label_)"
   ]
  }
 ],
 "metadata": {
  "kernelspec": {
   "display_name": "Python 3",
   "language": "python",
   "name": "python3"
  },
  "language_info": {
   "codemirror_mode": {
    "name": "ipython",
    "version": 3
   },
   "file_extension": ".py",
   "mimetype": "text/x-python",
   "name": "python",
   "nbconvert_exporter": "python",
   "pygments_lexer": "ipython3",
   "version": "3.12.0"
  }
 },
 "nbformat": 4,
 "nbformat_minor": 2
}
