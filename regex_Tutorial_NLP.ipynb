{
 "cells": [
  {
   "cell_type": "code",
   "execution_count": 14,
   "metadata": {},
   "outputs": [],
   "source": [
    "import re"
   ]
  },
  {
   "cell_type": "code",
   "execution_count": 15,
   "metadata": {},
   "outputs": [],
   "source": [
    "chat1 = 'codebasics: you ask lot of questions 😠  1235678912, abc@xyz.com'\n",
    "chat2 = 'codebasics: here it is: (123)-567-8912, abc@xyz.com'\n",
    "chat3 = 'codebasics: yes, phone: 1235678912 email: abc@xyz.com'"
   ]
  },
  {
   "cell_type": "code",
   "execution_count": 16,
   "metadata": {},
   "outputs": [
    {
     "name": "stderr",
     "output_type": "stream",
     "text": [
      "<>:1: SyntaxWarning: invalid escape sequence '\\d'\n",
      "<>:1: SyntaxWarning: invalid escape sequence '\\d'\n",
      "C:\\Users\\barua\\AppData\\Local\\Temp\\ipykernel_54728\\2254694752.py:1: SyntaxWarning: invalid escape sequence '\\d'\n",
      "  pattern = '\\d{10}|\\(\\d{3}\\)-\\d{3}-\\d{4}'\n"
     ]
    },
    {
     "data": {
      "text/plain": [
       "['(123)-567-8912']"
      ]
     },
     "execution_count": 16,
     "metadata": {},
     "output_type": "execute_result"
    }
   ],
   "source": [
    "pattern = '\\d{10}|\\(\\d{3}\\)-\\d{3}-\\d{4}'\n",
    "matches = re.findall(pattern,chat2)\n",
    "matches\n"
   ]
  },
  {
   "cell_type": "code",
   "execution_count": 17,
   "metadata": {},
   "outputs": [
    {
     "data": {
      "text/plain": [
       "['1235678912']"
      ]
     },
     "execution_count": 17,
     "metadata": {},
     "output_type": "execute_result"
    }
   ],
   "source": [
    "matches = re.findall(pattern,chat1)\n",
    "matches"
   ]
  },
  {
   "cell_type": "code",
   "execution_count": 18,
   "metadata": {},
   "outputs": [
    {
     "name": "stderr",
     "output_type": "stream",
     "text": [
      "<>:1: SyntaxWarning: invalid escape sequence '\\.'\n",
      "<>:1: SyntaxWarning: invalid escape sequence '\\.'\n",
      "C:\\Users\\barua\\AppData\\Local\\Temp\\ipykernel_54728\\3793864502.py:1: SyntaxWarning: invalid escape sequence '\\.'\n",
      "  pattern = '[a-z0-9A-Z_]*@[a-z0-9A-Z_]*\\.[a-zA-z]*'\n"
     ]
    },
    {
     "data": {
      "text/plain": [
       "['abc@xyz.com']"
      ]
     },
     "execution_count": 18,
     "metadata": {},
     "output_type": "execute_result"
    }
   ],
   "source": [
    "pattern = '[a-z0-9A-Z_]*@[a-z0-9A-Z_]*\\.[a-zA-z]*'\n",
    "matches = re.findall(pattern,chat2)\n",
    "matches"
   ]
  },
  {
   "cell_type": "code",
   "execution_count": 19,
   "metadata": {},
   "outputs": [],
   "source": [
    "chat1='codebasics: Hello, I am having an issue with my order # 412889912'\n",
    "chat2='codebasics: I have a problem with my order number 412889912'\n",
    "chat3='codebasics: My order 412889912 is having an issue, I was charged 300$ when online it says 280$'"
   ]
  },
  {
   "cell_type": "code",
   "execution_count": 20,
   "metadata": {},
   "outputs": [
    {
     "name": "stderr",
     "output_type": "stream",
     "text": [
      "<>:1: SyntaxWarning: invalid escape sequence '\\d'\n",
      "<>:1: SyntaxWarning: invalid escape sequence '\\d'\n",
      "C:\\Users\\barua\\AppData\\Local\\Temp\\ipykernel_54728\\1214321959.py:1: SyntaxWarning: invalid escape sequence '\\d'\n",
      "  pattern = 'order[^\\d]*(\\d*)'\n"
     ]
    },
    {
     "data": {
      "text/plain": [
       "['412889912']"
      ]
     },
     "execution_count": 20,
     "metadata": {},
     "output_type": "execute_result"
    }
   ],
   "source": [
    "pattern = 'order[^\\d]*(\\d*)'\n",
    "matches = re.findall(pattern,chat2)\n",
    "matches"
   ]
  },
  {
   "cell_type": "code",
   "execution_count": 21,
   "metadata": {},
   "outputs": [
    {
     "data": {
      "text/plain": [
       "['412889912']"
      ]
     },
     "execution_count": 21,
     "metadata": {},
     "output_type": "execute_result"
    }
   ],
   "source": [
    "matches = re.findall(pattern,chat1)\n",
    "matches"
   ]
  },
  {
   "cell_type": "code",
   "execution_count": 22,
   "metadata": {},
   "outputs": [
    {
     "data": {
      "text/plain": [
       "['412889912']"
      ]
     },
     "execution_count": 22,
     "metadata": {},
     "output_type": "execute_result"
    }
   ],
   "source": [
    "matches = re.findall(pattern,chat3)\n",
    "matches"
   ]
  },
  {
   "cell_type": "code",
   "execution_count": 23,
   "metadata": {},
   "outputs": [],
   "source": [
    "text='''\n",
    "Born\tElon Reeve Musk\n",
    "June 28, 1971 (age 50)\n",
    "Pretoria, Transvaal, South Africa\n",
    "Citizenship\t\n",
    "South Africa (1971–present)\n",
    "Canada (1971–present)\n",
    "United States (2002–present)\n",
    "Education\tUniversity of Pennsylvania (BS, BA)\n",
    "Title\t\n",
    "Founder, CEO and Chief Engineer of SpaceX\n",
    "CEO and product architect of Tesla, Inc.\n",
    "Founder of The Boring Company and X.com (now part of PayPal)\n",
    "Co-founder of Neuralink, OpenAI, and Zip2\n",
    "Spouse(s)\t\n",
    "Justine Wilson\n",
    "​\n",
    "​(m. 2000; div. 2008)​\n",
    "Talulah Riley\n",
    "​\n",
    "​(m. 2010; div. 2012)​\n",
    "​\n",
    "​(m. 2013; div. 2016)\n",
    "'''"
   ]
  },
  {
   "cell_type": "code",
   "execution_count": 24,
   "metadata": {},
   "outputs": [
    {
     "name": "stderr",
     "output_type": "stream",
     "text": [
      "<>:1: SyntaxWarning: invalid escape sequence '\\d'\n",
      "<>:1: SyntaxWarning: invalid escape sequence '\\d'\n",
      "C:\\Users\\barua\\AppData\\Local\\Temp\\ipykernel_54728\\988159415.py:1: SyntaxWarning: invalid escape sequence '\\d'\n",
      "  pattern = 'age (\\d+)'\n"
     ]
    },
    {
     "data": {
      "text/plain": [
       "['50']"
      ]
     },
     "execution_count": 24,
     "metadata": {},
     "output_type": "execute_result"
    }
   ],
   "source": [
    "pattern = 'age (\\d+)'\n",
    "matches = re.findall(pattern,text)\n",
    "matches"
   ]
  },
  {
   "cell_type": "code",
   "execution_count": 27,
   "metadata": {},
   "outputs": [
    {
     "data": {
      "text/plain": [
       "'Elon Reeve Musk'"
      ]
     },
     "execution_count": 27,
     "metadata": {},
     "output_type": "execute_result"
    }
   ],
   "source": [
    "pattern = 'Born(.*)'\n",
    "matches = re.findall(pattern,text)\n",
    "matches[0].strip()"
   ]
  }
 ],
 "metadata": {
  "kernelspec": {
   "display_name": "Python 3",
   "language": "python",
   "name": "python3"
  },
  "language_info": {
   "codemirror_mode": {
    "name": "ipython",
    "version": 3
   },
   "file_extension": ".py",
   "mimetype": "text/x-python",
   "name": "python",
   "nbconvert_exporter": "python",
   "pygments_lexer": "ipython3",
   "version": "3.12.0"
  }
 },
 "nbformat": 4,
 "nbformat_minor": 2
}
